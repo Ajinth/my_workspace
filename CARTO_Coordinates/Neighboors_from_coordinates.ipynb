{
 "cells": [
  {
   "cell_type": "code",
   "execution_count": 1,
   "metadata": {
    "collapsed": true
   },
   "outputs": [],
   "source": [
    "import numpy as np\n",
    "import pandas as pd"
   ]
  },
  {
   "cell_type": "markdown",
   "metadata": {},
   "source": [
    "### CARTO | Coordinates | Neighborhoods\n",
    "\n",
    "This workbook is a tutorial on how to extract a New York City Neighborhood from latittude / longitude coordinates. \n",
    "\n",
    "We'll be using Python, CARTO, SQL, and JSON.\n",
    "\n",
    "Unfortunately, I've lost the work from the original dataset where I got the coordinates from so this is a general tutorial on how to go from Lat/Long to neighborhood/Borough.\n",
    "\n",
    "Let's import the some stuff"
   ]
  },
  {
   "cell_type": "code",
   "execution_count": 2,
   "metadata": {
    "collapsed": true
   },
   "outputs": [],
   "source": [
    "df = pd.read_csv('get_neighborhood.csv')"
   ]
  },
  {
   "cell_type": "code",
   "execution_count": 4,
   "metadata": {},
   "outputs": [
    {
     "data": {
      "text/html": [
       "<div>\n",
       "<style>\n",
       "    .dataframe thead tr:only-child th {\n",
       "        text-align: right;\n",
       "    }\n",
       "\n",
       "    .dataframe thead th {\n",
       "        text-align: left;\n",
       "    }\n",
       "\n",
       "    .dataframe tbody tr th {\n",
       "        vertical-align: top;\n",
       "    }\n",
       "</style>\n",
       "<table border=\"1\" class=\"dataframe\">\n",
       "  <thead>\n",
       "    <tr style=\"text-align: right;\">\n",
       "      <th></th>\n",
       "      <th>cartodb_id</th>\n",
       "      <th>the_geom</th>\n",
       "      <th>field_1</th>\n",
       "      <th>longitude</th>\n",
       "      <th>latitude</th>\n",
       "      <th>neighborhood</th>\n",
       "    </tr>\n",
       "  </thead>\n",
       "  <tbody>\n",
       "    <tr>\n",
       "      <th>0</th>\n",
       "      <td>1</td>\n",
       "      <td>0101000020E6100000B81E85EB517C52C0FA7E6ABC745B...</td>\n",
       "      <td>0</td>\n",
       "      <td>-73.9425</td>\n",
       "      <td>40.7145</td>\n",
       "      <td>Williamsburg</td>\n",
       "    </tr>\n",
       "    <tr>\n",
       "      <th>1</th>\n",
       "      <td>2</td>\n",
       "      <td>0101000020E6100000C442AD69DE7D52C0CB10C7BAB865...</td>\n",
       "      <td>1</td>\n",
       "      <td>-73.9667</td>\n",
       "      <td>40.7947</td>\n",
       "      <td>Upper West Side</td>\n",
       "    </tr>\n",
       "    <tr>\n",
       "      <th>2</th>\n",
       "      <td>3</td>\n",
       "      <td>0101000020E61000008048BF7D1D8052C0742497FF905E...</td>\n",
       "      <td>2</td>\n",
       "      <td>-74.0018</td>\n",
       "      <td>40.7388</td>\n",
       "      <td>West Village</td>\n",
       "    </tr>\n",
       "    <tr>\n",
       "      <th>3</th>\n",
       "      <td>4</td>\n",
       "      <td>0101000020E6100000B515FBCBEE7D52C02A3A92CB7F60...</td>\n",
       "      <td>3</td>\n",
       "      <td>-73.9677</td>\n",
       "      <td>40.7539</td>\n",
       "      <td>Midtown</td>\n",
       "    </tr>\n",
       "    <tr>\n",
       "      <th>4</th>\n",
       "      <td>5</td>\n",
       "      <td>0101000020E6100000F085C954C17C52C01A51DA1B7C69...</td>\n",
       "      <td>4</td>\n",
       "      <td>-73.9493</td>\n",
       "      <td>40.8241</td>\n",
       "      <td>Harlem</td>\n",
       "    </tr>\n",
       "  </tbody>\n",
       "</table>\n",
       "</div>"
      ],
      "text/plain": [
       "   cartodb_id                                           the_geom  field_1  \\\n",
       "0           1  0101000020E6100000B81E85EB517C52C0FA7E6ABC745B...        0   \n",
       "1           2  0101000020E6100000C442AD69DE7D52C0CB10C7BAB865...        1   \n",
       "2           3  0101000020E61000008048BF7D1D8052C0742497FF905E...        2   \n",
       "3           4  0101000020E6100000B515FBCBEE7D52C02A3A92CB7F60...        3   \n",
       "4           5  0101000020E6100000F085C954C17C52C01A51DA1B7C69...        4   \n",
       "\n",
       "   longitude  latitude     neighborhood  \n",
       "0   -73.9425   40.7145     Williamsburg  \n",
       "1   -73.9667   40.7947  Upper West Side  \n",
       "2   -74.0018   40.7388     West Village  \n",
       "3   -73.9677   40.7539          Midtown  \n",
       "4   -73.9493   40.8241           Harlem  "
      ]
     },
     "execution_count": 4,
     "metadata": {},
     "output_type": "execute_result"
    }
   ],
   "source": [
    "df.head()"
   ]
  },
  {
   "cell_type": "markdown",
   "metadata": {},
   "source": [
    "### okay, lets delete some stuff\n",
    "This is the output we will get, so I'm going to drop some columns so we are just left with the longitude and latitude."
   ]
  },
  {
   "cell_type": "code",
   "execution_count": 6,
   "metadata": {},
   "outputs": [],
   "source": [
    "df.drop(['cartodb_id', 'the_geom', 'field_1'],axis=1, inplace=True)"
   ]
  },
  {
   "cell_type": "code",
   "execution_count": 8,
   "metadata": {},
   "outputs": [],
   "source": [
    "#oops, forgot to drop the neighborhood\n",
    "df.drop('neighborhood', axis=1, inplace=True)"
   ]
  },
  {
   "cell_type": "code",
   "execution_count": 9,
   "metadata": {},
   "outputs": [
    {
     "data": {
      "text/html": [
       "<div>\n",
       "<style>\n",
       "    .dataframe thead tr:only-child th {\n",
       "        text-align: right;\n",
       "    }\n",
       "\n",
       "    .dataframe thead th {\n",
       "        text-align: left;\n",
       "    }\n",
       "\n",
       "    .dataframe tbody tr th {\n",
       "        vertical-align: top;\n",
       "    }\n",
       "</style>\n",
       "<table border=\"1\" class=\"dataframe\">\n",
       "  <thead>\n",
       "    <tr style=\"text-align: right;\">\n",
       "      <th></th>\n",
       "      <th>longitude</th>\n",
       "      <th>latitude</th>\n",
       "    </tr>\n",
       "  </thead>\n",
       "  <tbody>\n",
       "    <tr>\n",
       "      <th>0</th>\n",
       "      <td>-73.9425</td>\n",
       "      <td>40.7145</td>\n",
       "    </tr>\n",
       "    <tr>\n",
       "      <th>1</th>\n",
       "      <td>-73.9667</td>\n",
       "      <td>40.7947</td>\n",
       "    </tr>\n",
       "    <tr>\n",
       "      <th>2</th>\n",
       "      <td>-74.0018</td>\n",
       "      <td>40.7388</td>\n",
       "    </tr>\n",
       "    <tr>\n",
       "      <th>3</th>\n",
       "      <td>-73.9677</td>\n",
       "      <td>40.7539</td>\n",
       "    </tr>\n",
       "    <tr>\n",
       "      <th>4</th>\n",
       "      <td>-73.9493</td>\n",
       "      <td>40.8241</td>\n",
       "    </tr>\n",
       "  </tbody>\n",
       "</table>\n",
       "</div>"
      ],
      "text/plain": [
       "   longitude  latitude\n",
       "0   -73.9425   40.7145\n",
       "1   -73.9667   40.7947\n",
       "2   -74.0018   40.7388\n",
       "3   -73.9677   40.7539\n",
       "4   -73.9493   40.8241"
      ]
     },
     "execution_count": 9,
     "metadata": {},
     "output_type": "execute_result"
    }
   ],
   "source": [
    "df.head()"
   ]
  },
  {
   "cell_type": "code",
   "execution_count": 10,
   "metadata": {},
   "outputs": [
    {
     "data": {
      "text/plain": [
       "(49352, 2)"
      ]
     },
     "execution_count": 10,
     "metadata": {},
     "output_type": "execute_result"
    }
   ],
   "source": [
    "df.shape"
   ]
  },
  {
   "cell_type": "markdown",
   "metadata": {},
   "source": [
    "So what we have now is dataframe with just the coordinates. You'll want to export this to a CSV (I already did) and upload it to CARTO. It's important to keep the index as CARTO _might_ rearrange things. better safe than sorry. But lets back up the CARTO.\n",
    "\n",
    "\n",
    "# CARTO\n",
    "This works on the free tier, just sign up and make a map. There are databases of JSON files with neighborhoods already built so pick one where the coordinates are in question. If there isn't. You can build one using a JSON dictionary and build a polygon where the corners are lat/long coordinates (make sure it's in continous order like if you were to draw the polygon without lifting the pen)\n",
    "\n",
    "#### We will be using the NYC Pedacities JSON file FYI\n",
    "\n",
    "1. So upload the JSON file(s) and the CSV of the coordinates as data.\n",
    "\n",
    "2. Create a new map (or use an existing map) and add those two datasets as layers!\n",
    "\n",
    "3. Now add an empty layer\n",
    "\n",
    "\n",
    "The empty layer is where we are just going to put a SQL Querry. We are working with datasets so if you can just do a join. \n",
    "\n",
    "```\n",
    "SELECT s.*,n.neighborhood\n",
    "FROM testset_coordinates as s\n",
    "left join pediacitiesnycneighborhoods as n  on ST_Within(s.the_geom,n.the_geom)\n",
    "order by s.field_1 \n",
    "```\n",
    "\n",
    "I uploaded my df as testset_coordinates and the pedacities as neighborhood.\n",
    "\n",
    "on your empty dataset, click _data_. now on the bottom, change the slider to SQL and put that code in there\n",
    "\n",
    "hit apply (bottom right), then export to CSV (top right). (it will be whatever you named your empty layer)"
   ]
  },
  {
   "cell_type": "code",
   "execution_count": null,
   "metadata": {
    "collapsed": true
   },
   "outputs": [],
   "source": []
  }
 ],
 "metadata": {
  "kernelspec": {
   "display_name": "Python 3",
   "language": "python",
   "name": "python3"
  },
  "language_info": {
   "codemirror_mode": {
    "name": "ipython",
    "version": 3
   },
   "file_extension": ".py",
   "mimetype": "text/x-python",
   "name": "python",
   "nbconvert_exporter": "python",
   "pygments_lexer": "ipython3",
   "version": "3.6.1"
  }
 },
 "nbformat": 4,
 "nbformat_minor": 2
}
