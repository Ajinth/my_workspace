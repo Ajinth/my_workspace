{
 "cells": [
  {
   "cell_type": "code",
   "execution_count": 1,
   "metadata": {},
   "outputs": [
    {
     "name": "stdout",
     "output_type": "stream",
     "text": [
      "Evaluating RMSE, MAE of algorithm SVD.\n",
      "\n",
      "------------\n",
      "Fold 1\n",
      "RMSE: 0.9467\n",
      "MAE:  0.7473\n",
      "------------\n",
      "Fold 2\n",
      "RMSE: 0.9412\n",
      "MAE:  0.7427\n",
      "------------\n",
      "Fold 3\n",
      "RMSE: 0.9465\n",
      "MAE:  0.7457\n",
      "------------\n",
      "------------\n",
      "Mean RMSE: 0.9448\n",
      "Mean MAE : 0.7452\n",
      "------------\n",
      "------------\n",
      "        Fold 1  Fold 2  Fold 3  Mean    \n",
      "RMSE    0.9467  0.9412  0.9465  0.9448  \n",
      "MAE     0.7473  0.7427  0.7457  0.7452  \n"
     ]
    }
   ],
   "source": [
    "from surprise import SVD\n",
    "from surprise import Dataset\n",
    "from surprise import evaluate, print_perf\n",
    "\n",
    "\n",
    "# Load the movielens-100k dataset (download it if needed),\n",
    "# and split it into 3 folds for cross-validation.\n",
    "data = Dataset.load_builtin('ml-100k')\n",
    "data.split(n_folds=3)\n",
    "\n",
    "# We'll use the famous SVD algorithm.\n",
    "algo = SVD()\n",
    "\n",
    "# Evaluate performances of our algorithm on the dataset.\n",
    "perf = evaluate(algo, data, measures=['RMSE', 'MAE'])\n",
    "\n",
    "print_perf(perf)"
   ]
  },
  {
   "cell_type": "code",
   "execution_count": 2,
   "metadata": {
    "collapsed": true
   },
   "outputs": [],
   "source": [
    "filepath = 'ratings_updated.csv'"
   ]
  },
  {
   "cell_type": "code",
   "execution_count": 3,
   "metadata": {
    "collapsed": true
   },
   "outputs": [],
   "source": [
    "from surprise.dataset import Reader"
   ]
  },
  {
   "cell_type": "code",
   "execution_count": 4,
   "metadata": {
    "collapsed": true
   },
   "outputs": [],
   "source": [
    "reader = Reader(line_format='user item rating timestamp', sep=',', skip_lines=1)\n",
    "\n",
    "data = Dataset.load_from_file(filepath, reader=reader)\n",
    "data.split(n_folds=5)"
   ]
  },
  {
   "cell_type": "code",
   "execution_count": 5,
   "metadata": {},
   "outputs": [
    {
     "name": "stdout",
     "output_type": "stream",
     "text": [
      "Evaluating RMSE, MAE of algorithm SVD.\n",
      "\n",
      "------------\n",
      "Fold 1\n",
      "RMSE: 0.7851\n",
      "MAE:  0.5974\n",
      "------------\n",
      "Fold 2\n",
      "RMSE: 0.7847\n",
      "MAE:  0.5970\n",
      "------------\n",
      "Fold 3\n",
      "RMSE: 0.7844\n",
      "MAE:  0.5968\n",
      "------------\n",
      "Fold 4\n",
      "RMSE: 0.7846\n",
      "MAE:  0.5970\n",
      "------------\n",
      "Fold 5\n",
      "RMSE: 0.7847\n",
      "MAE:  0.5970\n",
      "------------\n",
      "------------\n",
      "Mean RMSE: 0.7847\n",
      "Mean MAE : 0.5970\n",
      "------------\n",
      "------------\n",
      "        Fold 1  Fold 2  Fold 3  Fold 4  Fold 5  Mean    \n",
      "RMSE    0.7851  0.7847  0.7844  0.7846  0.7847  0.7847  \n",
      "MAE     0.5974  0.5970  0.5968  0.5970  0.5970  0.5970  \n"
     ]
    }
   ],
   "source": [
    "perf = evaluate(algo, data, measures=['RMSE', 'MAE'])\n",
    "\n",
    "print_perf(perf)"
   ]
  },
  {
   "cell_type": "code",
   "execution_count": null,
   "metadata": {
    "collapsed": true
   },
   "outputs": [],
   "source": []
  }
 ],
 "metadata": {
  "kernelspec": {
   "display_name": "Python 3",
   "language": "python",
   "name": "python3"
  },
  "language_info": {
   "codemirror_mode": {
    "name": "ipython",
    "version": 3
   },
   "file_extension": ".py",
   "mimetype": "text/x-python",
   "name": "python",
   "nbconvert_exporter": "python",
   "pygments_lexer": "ipython3",
   "version": "3.6.1"
  }
 },
 "nbformat": 4,
 "nbformat_minor": 2
}
